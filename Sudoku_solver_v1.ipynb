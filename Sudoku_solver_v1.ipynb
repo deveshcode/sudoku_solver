{
 "cells": [
  {
   "cell_type": "code",
   "execution_count": 7,
   "id": "b6ad4a7b",
   "metadata": {},
   "outputs": [
    {
     "ename": "UnboundLocalError",
     "evalue": "local variable 'col_end' referenced before assignment",
     "output_type": "error",
     "traceback": [
      "\u001b[0;31m---------------------------------------------------------------------------\u001b[0m",
      "\u001b[0;31mUnboundLocalError\u001b[0m                         Traceback (most recent call last)",
      "\u001b[0;32m<ipython-input-7-9317c47f7b7b>\u001b[0m in \u001b[0;36m<module>\u001b[0;34m\u001b[0m\n\u001b[1;32m     41\u001b[0m     \u001b[0;32mreturn\u001b[0m \u001b[0mvalid_flag\u001b[0m\u001b[0;34m\u001b[0m\u001b[0;34m\u001b[0m\u001b[0m\n\u001b[1;32m     42\u001b[0m \u001b[0;34m\u001b[0m\u001b[0m\n\u001b[0;32m---> 43\u001b[0;31m \u001b[0mprint\u001b[0m\u001b[0;34m(\u001b[0m\u001b[0mis_valid_move\u001b[0m\u001b[0;34m(\u001b[0m\u001b[0mgrid\u001b[0m\u001b[0;34m,\u001b[0m \u001b[0;36m0\u001b[0m\u001b[0;34m,\u001b[0m \u001b[0;36m1\u001b[0m\u001b[0;34m,\u001b[0m \u001b[0;36m1\u001b[0m\u001b[0;34m)\u001b[0m\u001b[0;34m)\u001b[0m\u001b[0;34m\u001b[0m\u001b[0;34m\u001b[0m\u001b[0m\n\u001b[0m",
      "\u001b[0;32m<ipython-input-7-9317c47f7b7b>\u001b[0m in \u001b[0;36mis_valid_move\u001b[0;34m(grid, row, col, num)\u001b[0m\n\u001b[1;32m     38\u001b[0m \u001b[0;34m\u001b[0m\u001b[0m\n\u001b[1;32m     39\u001b[0m \u001b[0;34m\u001b[0m\u001b[0m\n\u001b[0;32m---> 40\u001b[0;31m     \u001b[0mprint\u001b[0m\u001b[0;34m(\u001b[0m\u001b[0;34m\"block from \"\u001b[0m\u001b[0;34m,\u001b[0m\u001b[0mrow_start\u001b[0m\u001b[0;34m,\u001b[0m \u001b[0mcol_start\u001b[0m\u001b[0;34m,\u001b[0m \u001b[0;34m\" to \"\u001b[0m\u001b[0;34m,\u001b[0m \u001b[0mrow_end\u001b[0m\u001b[0;34m,\u001b[0m \u001b[0mcol_end\u001b[0m\u001b[0;34m)\u001b[0m\u001b[0;34m\u001b[0m\u001b[0;34m\u001b[0m\u001b[0m\n\u001b[0m\u001b[1;32m     41\u001b[0m     \u001b[0;32mreturn\u001b[0m \u001b[0mvalid_flag\u001b[0m\u001b[0;34m\u001b[0m\u001b[0;34m\u001b[0m\u001b[0m\n\u001b[1;32m     42\u001b[0m \u001b[0;34m\u001b[0m\u001b[0m\n",
      "\u001b[0;31mUnboundLocalError\u001b[0m: local variable 'col_end' referenced before assignment"
     ]
    }
   ],
   "source": [
    "grid = [[0, \"0\", 0, 0, 0, 0, 6, 8, 0],\n",
    "        [0, 0, 0, 0, 7, 3, 0, 0, 9],\n",
    "        [3, 0, 9, 0, 0, 0, 0, 4, 5],\n",
    "        [4, 9, 0, 0, 0, 0, 0, 0, 0],\n",
    "        [8, 0, 3, 0, 5, 0, 9, 0, 2],\n",
    "        [0, 0, 0, 0, 0, 0, 0, 3, 6],\n",
    "        [9, 6, 0, 0, 0, 0, 3, 0, 8],\n",
    "        [7, 0, 0, 6, 8, 0, 0, 0, 0],\n",
    "        [0, 2, 8, 0, 0, 0, 0, 0, 0]]\n",
    "\n",
    "def is_valid_move(grid, row, col, num):\n",
    "    valid_flag = True\n",
    "    # is there something in row\n",
    "    for x in range(9):\n",
    "        if grid[row][x]==num:\n",
    "            valid_flag = False\n",
    "            return valid_flag\n",
    "    # is there something in column\n",
    "    for x in range(9):\n",
    "        if grid[x][col]==num:\n",
    "            valid_flag = False\n",
    "            return valid_flag\n",
    "    # is there something in block\n",
    "    print(row)\n",
    "    print(col)\n",
    "    if row%2==0:\n",
    "        row_start = row\n",
    "        if row+2 > 8:\n",
    "            row_start = row-2\n",
    "        row_end = row+2\n",
    "        print(\"row end\", row_end)\n",
    "        print(\"row end\", row_end)\n",
    "    else:\n",
    "        row_start = row-1\n",
    "    if col%2==0:\n",
    "        col_start = col\n",
    "        if col+2 > 8:\n",
    "            col_start = col-2\n",
    "        col_end = row+2\n",
    "    else:\n",
    "        col_start = col-1\n",
    "\n",
    "        \n",
    "    print(\"block from \",row_start, col_start, \" to \", row_end, col_end)\n",
    "    return valid_flag\n",
    "\n",
    "print(is_valid_move(grid, 0, 1, 1))"
   ]
  },
  {
   "cell_type": "code",
   "execution_count": null,
   "id": "9339bb6c",
   "metadata": {},
   "outputs": [],
   "source": []
  }
 ],
 "metadata": {
  "kernelspec": {
   "display_name": "Python 3",
   "language": "python",
   "name": "python3"
  },
  "language_info": {
   "codemirror_mode": {
    "name": "ipython",
    "version": 3
   },
   "file_extension": ".py",
   "mimetype": "text/x-python",
   "name": "python",
   "nbconvert_exporter": "python",
   "pygments_lexer": "ipython3",
   "version": "3.7.10"
  }
 },
 "nbformat": 4,
 "nbformat_minor": 5
}
