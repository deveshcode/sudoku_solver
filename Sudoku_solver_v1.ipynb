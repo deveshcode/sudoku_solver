{
 "cells": [
  {
   "cell_type": "code",
   "execution_count": 26,
   "id": "b42eac85",
   "metadata": {},
   "outputs": [
    {
     "name": "stdout",
     "output_type": "stream",
     "text": [
      "False\n"
     ]
    }
   ],
   "source": [
    "grid = [[0, 1, 0, 0, 0, 0, 6, 8, 0],\n",
    "        [0, 0, 0, 0, 7, 3, 0, 0, 9],\n",
    "        [3, 0, 9, 0, 0, 0, 0, 4, 5],\n",
    "        [4, 9, 0, 0, 0, 0, 0, 0, 0],\n",
    "        [8, 0, 3, 0, 5, 0, 9, 0, 2],\n",
    "        [0, 0, 0, 0, 0, 0, 0, 3, 6],\n",
    "        [9, 6, 0, 0, 0, 0, 3, 0, 8],\n",
    "        [7, 0, 0, 6, 8, 0, 0, 0, 0],\n",
    "        [0, 2, 8, 0, 0, 0, 0, 0, 0]]\n",
    "\n",
    "def is_valid_move(grid, row, col, num):\n",
    "    valid_flag = True\n",
    "    # is there something in row\n",
    "    for x in range(9):\n",
    "        if grid[row][x]==num:\n",
    "            valid_flag = False\n",
    "            return valid_flag\n",
    "    # is there something in column\n",
    "    for x in range(9):\n",
    "        if grid[x][col]==num:\n",
    "            valid_flag = False\n",
    "            return valid_flag\n",
    "    # is there something in block\n",
    "    if row%2==0:\n",
    "        row_start = row\n",
    "        if row+2 > 8:\n",
    "            row_start = row-2\n",
    "    else:\n",
    "        row_start = row-1\n",
    "    row_end = row_start+2\n",
    "    \n",
    "    if col%2==0:\n",
    "        col_start = col\n",
    "        if col+2 > 8:\n",
    "            col_start = col-2\n",
    "    else:\n",
    "        col_start = col-1\n",
    "    col_end = col_start+2\n",
    "\n",
    "    for i in range(row_start, row_end+1):\n",
    "        for j in range(col_start, col_end+1):\n",
    "            if grid[i][j] == num:\n",
    "                return False\n",
    "    return valid_flag\n",
    "\n",
    "print(is_valid_move(grid, 0, 0, 2))\n",
    "\n",
    "for i in range(9):"
   ]
  },
  {
   "cell_type": "code",
   "execution_count": 23,
   "id": "110b7f58",
   "metadata": {},
   "outputs": [
    {
     "name": "stdout",
     "output_type": "stream",
     "text": [
      "4\n",
      "5\n"
     ]
    }
   ],
   "source": [
    "for i in range(4,6):\n",
    "    print(i)"
   ]
  },
  {
   "cell_type": "code",
   "execution_count": null,
   "id": "3f7080d8",
   "metadata": {},
   "outputs": [],
   "source": []
  }
 ],
 "metadata": {
  "kernelspec": {
   "display_name": "Python 3",
   "language": "python",
   "name": "python3"
  },
  "language_info": {
   "codemirror_mode": {
    "name": "ipython",
    "version": 3
   },
   "file_extension": ".py",
   "mimetype": "text/x-python",
   "name": "python",
   "nbconvert_exporter": "python",
   "pygments_lexer": "ipython3",
   "version": "3.7.10"
  }
 },
 "nbformat": 4,
 "nbformat_minor": 5
}
