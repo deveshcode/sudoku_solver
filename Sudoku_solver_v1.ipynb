{
 "cells": [
  {
   "cell_type": "code",
   "execution_count": null,
   "id": "a6316985",
   "metadata": {},
   "outputs": [],
   "source": [
    "grid = [[0, 0, 0, 0, 0, 0, 6, 8, 0],\n",
    "        [0, 0, 0, 0, 7, 3, 0, 0, 9],\n",
    "        [3, 0, 9, 0, 0, 0, 0, 4, 5],\n",
    "        [4, 9, 0, 0, 0, 0, 0, 0, 0],\n",
    "        [8, 0, 3, 0, 5, 0, 9, 0, 2],\n",
    "        [0, 0, 0, 0, 0, 0, 0, 3, 6],\n",
    "        [9, 6, 0, 0, 0, 0, 3, 0, 8],\n",
    "        [7, 0, 0, 6, 8, 0, 0, 0, 0],\n",
    "        [0, 2, 8, 0, 0, 0, 0, 0, 0]]\n",
    "\n",
    "def is_valid_move(grid, row, col, num):\n",
    "    valid_flag = True\n",
    "    # is there something in row\n",
    "    for x in range(9):\n",
    "        if grid[row][x]==num:\n",
    "            \n",
    "    # is there something in column\n",
    "    # is there something in block"
   ]
  }
 ],
 "metadata": {
  "kernelspec": {
   "display_name": "Python 3",
   "language": "python",
   "name": "python3"
  },
  "language_info": {
   "codemirror_mode": {
    "name": "ipython",
    "version": 3
   },
   "file_extension": ".py",
   "mimetype": "text/x-python",
   "name": "python",
   "nbconvert_exporter": "python",
   "pygments_lexer": "ipython3",
   "version": "3.7.10"
  }
 },
 "nbformat": 4,
 "nbformat_minor": 5
}
