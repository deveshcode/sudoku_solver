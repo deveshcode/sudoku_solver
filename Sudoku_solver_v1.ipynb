{
 "cells": [
  {
   "cell_type": "code",
   "execution_count": 18,
   "id": "b98a7050",
   "metadata": {},
   "outputs": [
    {
     "name": "stdout",
     "output_type": "stream",
     "text": [
      "1\n",
      "1\n",
      "row start 0\n",
      "row end 3\n",
      "col start 0\n",
      "col end 3\n",
      "block from  0 0  to  3 3\n",
      "True\n"
     ]
    }
   ],
   "source": [
    "grid = [[0, 1, 0, 0, 0, 0, 6, 8, 0],\n",
    "        [0, \"0\", 0, 0, 7, 3, 0, 0, 9],\n",
    "        [3, 0, 9, 0, 0, 0, 0, 4, 5],\n",
    "        [4, 9, 0, 0, 0, 0, 0, 0, 0],\n",
    "        [8, 0, 3, 0, 5, 0, 9, 0, 2],\n",
    "        [0, 0, 0, 0, 0, 0, 0, 3, 6],\n",
    "        [9, 6, 0, 0, 0, 0, 3, 0, 8],\n",
    "        [7, 0, 0, 6, 8, 0, 0, 0, 0],\n",
    "        [0, 2, 8, 0, 0, 0, 0, 0, 0]]\n",
    "\n",
    "def is_valid_move(grid, row, col, num):\n",
    "    valid_flag = True\n",
    "    # is there something in row\n",
    "    for x in range(9):\n",
    "        if grid[row][x]==num:\n",
    "            valid_flag = False\n",
    "            return valid_flag\n",
    "    # is there something in column\n",
    "    for x in range(9):\n",
    "        if grid[x][col]==num:\n",
    "            valid_flag = False\n",
    "            return valid_flag\n",
    "    # is there something in block\n",
    "    print(row)\n",
    "    print(col)\n",
    "    if row%2==0:\n",
    "        row_start = row\n",
    "        if row+2 > 8:\n",
    "            row_start = row-2\n",
    "    else:\n",
    "        row_start = row-1\n",
    "    row_end = row_start+2\n",
    "    \n",
    "    print(\"row start\", row_start)\n",
    "    print(\"row end\", row_end)\n",
    "    \n",
    "    \n",
    "    if col%2==0:\n",
    "        col_start = col\n",
    "        if col+2 > 8:\n",
    "            col_start = col-2\n",
    "    else:\n",
    "        col_start = col-1\n",
    "    col_end = row+2\n",
    "    \n",
    "    print(\"col start\", col_start)\n",
    "    print(\"col end\", col_end)\n",
    "\n",
    "        \n",
    "    print(\"block from \",row_start, col_start, \" to \", row_end, col_end)\n",
    "    return valid_flag\n",
    "\n",
    "print(is_valid_move(grid, 1, 1, 4))"
   ]
  },
  {
   "cell_type": "code",
   "execution_count": null,
   "id": "43d725e8",
   "metadata": {},
   "outputs": [],
   "source": []
  }
 ],
 "metadata": {
  "kernelspec": {
   "display_name": "Python 3",
   "language": "python",
   "name": "python3"
  },
  "language_info": {
   "codemirror_mode": {
    "name": "ipython",
    "version": 3
   },
   "file_extension": ".py",
   "mimetype": "text/x-python",
   "name": "python",
   "nbconvert_exporter": "python",
   "pygments_lexer": "ipython3",
   "version": "3.7.10"
  }
 },
 "nbformat": 4,
 "nbformat_minor": 5
}
