{
 "cells": [
  {
   "cell_type": "code",
   "execution_count": null,
   "id": "40046eb2",
   "metadata": {},
   "outputs": [],
   "source": [
    "grid = [[0, 0, 0, 0, 0, 0, 6, 8, 0],\n",
    "        [0, 0, 0, 0, 7, 3, 0, 0, 9],\n",
    "        [0, 0, 0, 0, 0, 0, 6, 8, 0],\n",
    "        [0, 0, 0, 0, 0, 0, 6, 8, 0],\n",
    "        [0, 0, 0, 0, 0, 0, 6, 8, 0],\n",
    "        [0, 0, 0, 0, 0, 0, 6, 8, 0],\n",
    "        [0, 0, 0, 0, 0, 0, 6, 8, 0],\n",
    "        [0, 0, 0, 0, 0, 0, 6, 8, 0],\n",
    "        [0, 0, 0, 0, 0, 0, 6, 8, 0],]"
   ]
  }
 ],
 "metadata": {
  "kernelspec": {
   "display_name": "Python 3",
   "language": "python",
   "name": "python3"
  },
  "language_info": {
   "codemirror_mode": {
    "name": "ipython",
    "version": 3
   },
   "file_extension": ".py",
   "mimetype": "text/x-python",
   "name": "python",
   "nbconvert_exporter": "python",
   "pygments_lexer": "ipython3",
   "version": "3.7.10"
  }
 },
 "nbformat": 4,
 "nbformat_minor": 5
}
