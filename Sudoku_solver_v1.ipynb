{
 "cells": [
  {
   "cell_type": "code",
   "execution_count": 1,
   "id": "6dab973a",
   "metadata": {},
   "outputs": [
    {
     "name": "stdout",
     "output_type": "stream",
     "text": [
      "True\n"
     ]
    }
   ],
   "source": [
    "grid = [[\"a\", 0, 0, 0, 0, 0, 6, 8, 0],\n",
    "        [0, 0, 0, 0, 7, 3, 0, 0, 9],\n",
    "        [3, 0, 9, 0, 0, 0, 0, 4, 5],\n",
    "        [4, 9, 0, 0, 0, 0, 0, 0, 0],\n",
    "        [8, 0, 3, 0, 5, 0, 9, 0, 2],\n",
    "        [0, 0, 0, 0, 0, 0, 0, 3, 6],\n",
    "        [9, 6, 0, 0, 0, 0, 3, 0, 8],\n",
    "        [7, 0, 0, 6, 8, 0, 0, 0, 0],\n",
    "        [0, 2, 8, 0, 0, 0, 0, 0, 0]]\n",
    "\n",
    "def is_valid_move(grid, row, col, num):\n",
    "    valid_flag = True\n",
    "    # is there something in row\n",
    "    for x in range(9):\n",
    "        if grid[row][x]==num:\n",
    "            valid_flag = False\n",
    "            return valid_flag\n",
    "    # is there something in column\n",
    "    for x in range(9):\n",
    "        if grid[x][col]==num:\n",
    "            valid_flag = False\n",
    "            return valid_flag\n",
    "    # is there something in block\n",
    "    if row%2==0:\n",
    "        row_start = row\n",
    "    if col%2==0:\n",
    "        \n",
    "    print(\"block from \",row, col)\n",
    "    return valid_flag\n",
    "\n",
    "print(is_valid_move(grid, 0, 0, 1))"
   ]
  }
 ],
 "metadata": {
  "kernelspec": {
   "display_name": "Python 3",
   "language": "python",
   "name": "python3"
  },
  "language_info": {
   "codemirror_mode": {
    "name": "ipython",
    "version": 3
   },
   "file_extension": ".py",
   "mimetype": "text/x-python",
   "name": "python",
   "nbconvert_exporter": "python",
   "pygments_lexer": "ipython3",
   "version": "3.7.10"
  }
 },
 "nbformat": 4,
 "nbformat_minor": 5
}
